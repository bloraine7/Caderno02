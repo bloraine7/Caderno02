{
  "nbformat": 4,
  "nbformat_minor": 0,
  "metadata": {
    "colab": {
      "provenance": [],
      "collapsed_sections": [
        "7-hnB6C_uZyW"
      ]
    },
    "kernelspec": {
      "name": "python3",
      "display_name": "Python 3"
    },
    "language_info": {
      "name": "python"
    }
  },
  "cells": [
    {
      "cell_type": "code",
      "execution_count": null,
      "metadata": {
        "colab": {
          "base_uri": "https://localhost:8080/"
        },
        "id": "m40lnWYwovQ5",
        "outputId": "00789ef6-d96b-4f93-a972-e362bac525fe"
      },
      "outputs": [
        {
          "output_type": "stream",
          "name": "stdout",
          "text": [
            "Olá, mundo!\n"
          ]
        }
      ],
      "source": [
        "print (\"Olá, mundo!\")"
      ]
    },
    {
      "cell_type": "code",
      "source": [
        "nome = (\"Maria\")\n",
        "print (nome)"
      ],
      "metadata": {
        "colab": {
          "base_uri": "https://localhost:8080/"
        },
        "id": "R9SYBaS7pEyO",
        "outputId": "ad60cbe8-e48b-494d-b927-893e785f425a"
      },
      "execution_count": null,
      "outputs": [
        {
          "output_type": "stream",
          "name": "stdout",
          "text": [
            "Maria\n"
          ]
        }
      ]
    },
    {
      "cell_type": "code",
      "source": [
        "numero = float(input(\"Digite um número: \"))\n",
        "\n",
        "print(f\"O tipo da variável 'numero' é: {type(numero)}\")"
      ],
      "metadata": {
        "colab": {
          "base_uri": "https://localhost:8080/"
        },
        "id": "MeQAhCGhpiFV",
        "outputId": "cdfd8108-88a9-4ac1-91e0-a9601f56b465"
      },
      "execution_count": null,
      "outputs": [
        {
          "output_type": "stream",
          "name": "stdout",
          "text": [
            "Digite um número: 5\n",
            "O tipo da variável 'numero' é: <class 'float'>\n"
          ]
        }
      ]
    },
    {
      "cell_type": "code",
      "source": [
        "a = 10\n",
        "b = 5\n",
        "\n",
        "# Calculando\n",
        "soma = a + b\n",
        "subtracao = a - b\n",
        "multiplicacao = a * b\n",
        "divisao = a / b\n",
        "\n",
        "print(f\"Soma: {soma}\")\n",
        "print(f\"Subtração: {subtracao}\")\n",
        "print(f\"Multiplicação: {multiplicacao}\")\n",
        "print(f\"Divisão: {divisao}\")"
      ],
      "metadata": {
        "colab": {
          "base_uri": "https://localhost:8080/"
        },
        "id": "-_J400iermse",
        "outputId": "ef03bcde-5c82-4d92-ffcf-b755498eca4b"
      },
      "execution_count": null,
      "outputs": [
        {
          "output_type": "stream",
          "name": "stdout",
          "text": [
            "Soma: 15\n",
            "Subtração: 5\n",
            "Multiplicação: 50\n",
            "Divisão: 2.0\n"
          ]
        }
      ]
    },
    {
      "cell_type": "code",
      "source": [
        "num1 = int(input(\"Digite o primeiro número: \"))\n",
        "num2 = int(input(\"Digite o segundo número: \"))\n",
        "\n",
        "soma = num1 + num2\n",
        "\n",
        "print(f\"A soma dos números é: {soma}\")"
      ],
      "metadata": {
        "colab": {
          "base_uri": "https://localhost:8080/"
        },
        "id": "GOVMvRqtswmG",
        "outputId": "cab0318d-2f95-4207-9db5-2b085c80ba09"
      },
      "execution_count": null,
      "outputs": [
        {
          "output_type": "stream",
          "name": "stdout",
          "text": [
            "Digite o primeiro número: 10\n",
            "Digite o segundo número: 10\n",
            "A soma dos números é: 20\n"
          ]
        }
      ]
    },
    {
      "cell_type": "code",
      "source": [
        "idade = int(input(\"Digite sua idade: \"))\n",
        "\n",
        "# Verificando se a idade é maior ou igual a 18\n",
        "if idade >= 18:\n",
        "    print(\"Você tem 18 ou mais de 18.\")\n",
        "else:\n",
        "    print(\"Você tem menos de 18.\")"
      ],
      "metadata": {
        "colab": {
          "base_uri": "https://localhost:8080/"
        },
        "id": "cMNigx5FtyEl",
        "outputId": "fd29689d-ca00-49da-ed8c-6f5d3f6d8444"
      },
      "execution_count": null,
      "outputs": [
        {
          "output_type": "stream",
          "name": "stdout",
          "text": [
            "Digite sua idade: 12\n",
            "Você tem menos de 18.\n"
          ]
        }
      ]
    },
    {
      "cell_type": "code",
      "source": [
        "numero = int(input(\"Digite um número: \"))\n",
        "\n",
        "# Verificando se o número é par ou ímpar\n",
        "if numero % 2 == 0:\n",
        "    print(f\"O número {numero} é par.\")\n",
        "else:\n",
        "    print(f\"O número {numero} é ímpar.\")"
      ],
      "metadata": {
        "colab": {
          "base_uri": "https://localhost:8080/"
        },
        "id": "PoSa0YjVvDn2",
        "outputId": "4e7ec2a1-9c61-48b0-9ad6-74daec2acdbb"
      },
      "execution_count": null,
      "outputs": [
        {
          "output_type": "stream",
          "name": "stdout",
          "text": [
            "Digite um número: 7\n",
            "O número 7 é ímpar.\n"
          ]
        }
      ]
    },
    {
      "cell_type": "code",
      "source": [
        "idade = int(input(\"Digite a sua idade: \"))\n",
        "\n",
        "# Verificando se a idade está dentro do intervalo\n",
        "if 18 <= idade <= 65:\n",
        "    print(\"Você é maior de idade e está no intervalo de 18 a 65 anos.\")\n",
        "else:\n",
        "    print(\"Você é menor de idade ou está fora do intervalo de 18 a 65 anos.\")"
      ],
      "metadata": {
        "colab": {
          "base_uri": "https://localhost:8080/"
        },
        "id": "YcGfK4CTwIs3",
        "outputId": "25f42eab-071e-470a-a630-05cd709c11e7"
      },
      "execution_count": null,
      "outputs": [
        {
          "output_type": "stream",
          "name": "stdout",
          "text": [
            "Digite a sua idade: 13\n",
            "Você é menor de idade ou está fora do intervalo de 18 a 65 anos.\n"
          ]
        }
      ]
    },
    {
      "cell_type": "code",
      "source": [
        "idade = int(input(\"Digite sua idade: \"))\n",
        "\n",
        "# Verificando se é maior ou menor de idade\n",
        "if idade >= 18:\n",
        "    print(\"Você é maior de idade.\")\n",
        "else:\n",
        "    print(\"Você é menor de idade.\")\n"
      ],
      "metadata": {
        "colab": {
          "base_uri": "https://localhost:8080/"
        },
        "id": "2vcD6RlY2DF3",
        "outputId": "a23ff58d-db8a-4b00-8cf2-71530fd7a151"
      },
      "execution_count": null,
      "outputs": [
        {
          "output_type": "stream",
          "name": "stdout",
          "text": [
            "Digite sua idade: 5\n",
            "Você é menor de idade.\n"
          ]
        }
      ]
    },
    {
      "cell_type": "code",
      "source": [
        "nota = int(input(\"Digite sua nota: \"))\n",
        "\n",
        "# Verificando se a nota é suficiente para aprovação\n",
        "if nota >= 6:\n",
        "    print(f\"Parabéns! Sua nota de {nota:.1f} é suficiente para aprovação.\")\n",
        "else:\n",
        "    print(f\"Sua nota de {nota:.1f} não é suficiente para aprovação. Estude mais!\")"
      ],
      "metadata": {
        "colab": {
          "base_uri": "https://localhost:8080/"
        },
        "id": "pTHN3bzu2lk9",
        "outputId": "6b703a57-3f7b-4893-82b9-aa2f87c1eccd"
      },
      "execution_count": null,
      "outputs": [
        {
          "output_type": "stream",
          "name": "stdout",
          "text": [
            "Digite sua nota: 4\n",
            "Sua nota de 4.0 não é suficiente para aprovação. Estude mais!\n"
          ]
        }
      ]
    },
    {
      "cell_type": "code",
      "source": [
        "#DEF é usada para definir funções. Pode receber argumentos (entradas) e retornar um valor de saída.\n",
        "\n",
        "def verificar_numero():\n",
        "    numero = float(input(\"Digite um número: \"))\n",
        "    if numero > 0:\n",
        "        print(\"O número é positivo.\")\n",
        "    elif numero < 0:\n",
        "        print(\"O número é negativo.\")\n",
        "    else:\n",
        "        print(\"O número é zero.\")\n",
        "\n",
        "# Chame a função para verificar o número inserido pelo usuário\n",
        "verificar_numero()"
      ],
      "metadata": {
        "id": "7-hnB6C_uZyW",
        "colab": {
          "base_uri": "https://localhost:8080/"
        },
        "outputId": "e8321d19-3f04-4fd4-8abc-7f3d1f5f634e"
      },
      "execution_count": null,
      "outputs": [
        {
          "output_type": "stream",
          "name": "stdout",
          "text": [
            "Digite um número: -7\n",
            "O número é negativo.\n"
          ]
        }
      ]
    },
    {
      "cell_type": "code",
      "source": [
        "def verificar_maior(x, y):\n",
        "    if x > y:\n",
        "        return x\n",
        "    else:\n",
        "        return y\n",
        "\n",
        "numero1 = float(input(\"Digite o primeiro número: \"))\n",
        "numero2 = float(input(\"Digite o segundo número: \"))\n",
        "\n",
        "maior_numero = verificar_maior(numero1, numero2)\n",
        "\n",
        "print(f\"O maior número entre {numero1} e {numero2} é {maior_numero}.\")"
      ],
      "metadata": {
        "colab": {
          "base_uri": "https://localhost:8080/"
        },
        "id": "OeB13MHuuTYW",
        "outputId": "1b917e2b-480a-421d-8c94-f3ebbf7c6e18"
      },
      "execution_count": null,
      "outputs": [
        {
          "output_type": "stream",
          "name": "stdout",
          "text": [
            "Digite o primeiro número: 4\n",
            "Digite o segundo número: 8\n",
            "O maior número entre 4.0 e 8.0 é 8.0.\n"
          ]
        }
      ]
    },
    {
      "cell_type": "code",
      "source": [
        "# Escolha uma operação\n",
        "operacao = input(\"Escolha uma operação (+, -, *, /): \")\n",
        "\n",
        "# Insira dois números\n",
        "num1, num2 = float(input(\"Digite o primeiro número: \")), float(input(\"Digite o segundo número: \"))\n",
        "\n",
        "# Execute a operação correspondente\n",
        "if operacao == \"+\":\n",
        "    resultado = num1 + num2\n",
        "elif operacao == \"-\":\n",
        "    resultado = num1 - num2\n",
        "elif operacao == \"*\":\n",
        "    resultado = num1 * num2\n",
        "elif operacao == \"/\":\n",
        "    resultado = num1 / num2 if num2 != 0 else print(\"Erro: Divisão por zero não é permitida.\")\n",
        "else:\n",
        "    print(\"Operação inválida. Escolha entre +, -, *, ou /.\")\n",
        "\n",
        "# Exibindo o resultado\n",
        "if resultado:\n",
        "    print(f\"Resultado da operação {operacao}: {resultado}\")"
      ],
      "metadata": {
        "colab": {
          "base_uri": "https://localhost:8080/"
        },
        "id": "Za3BkDvgvKZS",
        "outputId": "43f056bd-1826-4a78-e9ae-21b780194bec"
      },
      "execution_count": null,
      "outputs": [
        {
          "output_type": "stream",
          "name": "stdout",
          "text": [
            "Escolha uma operação (+, -, *, /): *\n",
            "Digite o primeiro número: 5\n",
            "Digite o segundo número: 23\n",
            "Resultado da operação *: 115.0\n"
          ]
        }
      ]
    },
    {
      "cell_type": "code",
      "source": [
        "numero = int(input('Digite um número inteiro: '))\n",
        "\n",
        "# Verificando se o número é par\n",
        "if numero % 2 == 0:\n",
        "    print('O número é par.')\n",
        "else:\n",
        "    print('O número é ímpar.')\n",
        "\n",
        "# Verificando se o número é positivo\n",
        "if numero >= 0:\n",
        "    print('O número é positivo.')\n",
        "else:\n",
        "    print('O número é negativo.')"
      ],
      "metadata": {
        "colab": {
          "base_uri": "https://localhost:8080/"
        },
        "id": "3ghG3mJSw0FS",
        "outputId": "5d5865b0-05f5-45dc-b2a6-7e50e5523054"
      },
      "execution_count": null,
      "outputs": [
        {
          "output_type": "stream",
          "name": "stdout",
          "text": [
            "Digite um número inteiro: -2\n",
            "O número é par.\n",
            "O número é negativo.\n"
          ]
        }
      ]
    },
    {
      "cell_type": "code",
      "source": [
        "while True:\n",
        "    try:\n",
        "        idade = int(input(\"Informe sua idade: \"))\n",
        "        if idade <= 5:\n",
        "            print(\"Você é uma neném.\")\n",
        "        elif 5 < idade <= 12:\n",
        "            print(\"Você é uma criança.\")\n",
        "        elif 13 <= idade <= 17:\n",
        "            print(\"Você é um adolescente.\")\n",
        "        else:\n",
        "            print(\"Você é um adulto.\")\n",
        "        break\n",
        "    except ValueError:\n",
        "        print(\"Favor inserir um valor numérico válido.\")"
      ],
      "metadata": {
        "colab": {
          "base_uri": "https://localhost:8080/"
        },
        "id": "OiZlYODlxZ7S",
        "outputId": "ee93aee0-961e-4751-efc3-5b8ec2344af4"
      },
      "execution_count": null,
      "outputs": [
        {
          "output_type": "stream",
          "name": "stdout",
          "text": [
            "Informe sua idade: 15\n",
            "Você é um adolescente.\n"
          ]
        }
      ]
    },
    {
      "cell_type": "code",
      "source": [
        "# Expressão matemática\n",
        "resultado = (2 + 3) * 4 - 5 / 2 * (2 + 3) * 4 - 5 / 2\n",
        "print(f\"O resultado da expressão é: {resultado}\")"
      ],
      "metadata": {
        "colab": {
          "base_uri": "https://localhost:8080/"
        },
        "id": "PXp1cRNuzaGP",
        "outputId": "9b9f375d-2816-4e38-b026-60c53dbf2639"
      },
      "execution_count": null,
      "outputs": [
        {
          "output_type": "stream",
          "name": "stdout",
          "text": [
            "O resultado da expressão é: -32.5\n"
          ]
        }
      ]
    },
    {
      "cell_type": "code",
      "source": [
        "base = 2\n",
        "resultado = base ** 2\n",
        "print(f\"O quadrado de {base} é {resultado}\")"
      ],
      "metadata": {
        "colab": {
          "base_uri": "https://localhost:8080/"
        },
        "id": "fP9XYIQo1GHB",
        "outputId": "85f8ab90-ff77-440f-bd06-5aa0351442ee"
      },
      "execution_count": null,
      "outputs": [
        {
          "output_type": "stream",
          "name": "stdout",
          "text": [
            "O quadrado de 2 é 4\n"
          ]
        }
      ]
    },
    {
      "cell_type": "code",
      "source": [
        "# Calculando a área de um círculo com raio igual a 5\n",
        "import math\n",
        "\n",
        "# Defina o raio\n",
        "raio = 5\n",
        "\n",
        "# Calcule a área\n",
        "area = math.pi * raio**2\n",
        "\n",
        "# Exibindo o resultado\n",
        "print(f\"A área do círculo com raio {raio} é {area:.2f} unidades de área.\")"
      ],
      "metadata": {
        "colab": {
          "base_uri": "https://localhost:8080/"
        },
        "id": "J3vWzcrn1RT4",
        "outputId": "621def35-4d5b-4fd2-e7ca-670ca79f3785"
      },
      "execution_count": null,
      "outputs": [
        {
          "output_type": "stream",
          "name": "stdout",
          "text": [
            "A área do círculo com raio 5 é 78.54 unidades de área.\n"
          ]
        }
      ]
    }
  ]
}